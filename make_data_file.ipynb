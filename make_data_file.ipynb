{
  "nbformat": 4,
  "nbformat_minor": 0,
  "metadata": {
    "colab": {
      "name": "make_data_file.ipynb",
      "version": "0.3.2",
      "provenance": [],
      "collapsed_sections": [],
      "toc_visible": true,
      "include_colab_link": true
    },
    "kernelspec": {
      "name": "python3",
      "display_name": "Python 3"
    },
    "accelerator": "GPU"
  },
  "cells": [
    {
      "cell_type": "markdown",
      "metadata": {
        "id": "view-in-github",
        "colab_type": "text"
      },
      "source": [
        "<a href=\"https://colab.research.google.com/github/taoyafan/pointer-generator/blob/master/make_data_file.ipynb\" target=\"_parent\"><img src=\"https://colab.research.google.com/assets/colab-badge.svg\" alt=\"Open In Colab\"/></a>"
      ]
    },
    {
      "metadata": {
        "id": "W5IXhmVWC5Hp",
        "colab_type": "text"
      },
      "cell_type": "markdown",
      "source": [
        "教程参考：[想免费用谷歌资源训练神经网络？Colab 详细使用教程](https://jinkey.ai/post/tech/xiang-mian-fei-yong-gu-ge-zi-yuan-xun-lian-shen-jing-wang-luo-colab-xiang-xi-shi-yong-jiao-cheng#toc_2)"
      ]
    },
    {
      "metadata": {
        "id": "V_wA03CoFuWq",
        "colab_type": "text"
      },
      "cell_type": "markdown",
      "source": [
        "# 将数据从云盘读入程序根目录"
      ]
    },
    {
      "metadata": {
        "id": "8CdT0VtJenQu",
        "colab_type": "text"
      },
      "cell_type": "markdown",
      "source": [
        "## 授权登录"
      ]
    },
    {
      "metadata": {
        "id": "mYV4RCpYHUW0",
        "colab_type": "code",
        "colab": {}
      },
      "cell_type": "code",
      "source": [
        "from pydrive.auth import GoogleAuth\n",
        "from pydrive.drive import GoogleDrive\n",
        "from google.colab import auth\n",
        "from oauth2client.client import GoogleCredentials\n",
        "\n",
        "auth.authenticate_user()\n",
        "gauth = GoogleAuth()\n",
        "gauth.credentials = GoogleCredentials.get_application_default()\n",
        "drive = GoogleDrive(gauth)"
      ],
      "execution_count": 0,
      "outputs": []
    },
    {
      "metadata": {
        "id": "uN7X2j22fHyP",
        "colab_type": "text"
      },
      "cell_type": "markdown",
      "source": [
        "## 读取谷歌的云端硬盘的文件，写入程序根目录\n",
        "\n",
        "### 显示云盘根目录的文件"
      ]
    },
    {
      "metadata": {
        "id": "1ckcHIzHMvaT",
        "colab_type": "code",
        "colab": {
          "base_uri": "https://localhost:8080/",
          "height": 50
        },
        "outputId": "78cf9b99-dee8-47d5-b16c-b7bbb7d22d36"
      },
      "cell_type": "code",
      "source": [
        "file_list = drive.ListFile({'q': \"'root' in parents and trashed=false\"}).GetList()\n",
        "for file1 in file_list:\n",
        "      print('title: %s, id: %s, mimeType: %s' % (file1['title'], file1['id'], file1[\"mimeType\"]))\n"
      ],
      "execution_count": 100,
      "outputs": [
        {
          "output_type": "stream",
          "text": [
            "title: code, id: 18ijhbBiNtaqpgiNwzxAf6a3W13Pc8qSa, mimeType: application/vnd.google-apps.folder\n",
            "title: Colab Notebooks, id: 1AY8s8p79p0Isoh3Za7zPf3TgLnLanjmp, mimeType: application/vnd.google-apps.folder\n"
          ],
          "name": "stdout"
        }
      ]
    },
    {
      "metadata": {
        "id": "NYHBWvYwfVDu",
        "colab_type": "text"
      },
      "cell_type": "markdown",
      "source": [
        "### 打开 code 文件"
      ]
    },
    {
      "metadata": {
        "id": "qg5hCNcWNTik",
        "colab_type": "code",
        "colab": {
          "base_uri": "https://localhost:8080/",
          "height": 84
        },
        "outputId": "c85bead9-7d7b-4507-b9b8-70a9e91d51f1"
      },
      "cell_type": "code",
      "source": [
        "file_list = drive.ListFile({'q': \"'18ijhbBiNtaqpgiNwzxAf6a3W13Pc8qSa' in parents and trashed=false\"}).GetList()\n",
        "for file1 in file_list:\n",
        "      print('title: %s, id: %s, mimeType: %s' % (file1['title'], file1['id'], file1[\"mimeType\"]))\n",
        "  "
      ],
      "execution_count": 101,
      "outputs": [
        {
          "output_type": "stream",
          "text": [
            "title: bytecup.corpus.train.0.txt, id: 18X4DEun0b3owB26YdHaPF5nzHO7j-a0N, mimeType: text/plain\n",
            "title: bytecup.corpus.validation_set.txt, id: 1N6UdW9cEm4lxcR_lW0PEDgmdWG1IVoAb, mimeType: text/plain\n",
            "title: for_test.txt, id: 1X546mxQmuWp7gpA9mzzHh3PO-nvJzz0l, mimeType: text/plain\n",
            "title: get_to_the_point, id: 1nzipK056ECQjHX8-mnKLpltqhT5P4xeU, mimeType: application/vnd.google-apps.folder\n"
          ],
          "name": "stdout"
        }
      ]
    },
    {
      "metadata": {
        "id": "tyBzeAQxffhF",
        "colab_type": "text"
      },
      "cell_type": "markdown",
      "source": [
        "### 读取云盘中的文件内容"
      ]
    },
    {
      "metadata": {
        "id": "wV0Sz8WlO0F8",
        "colab_type": "code",
        "colab": {
          "base_uri": "https://localhost:8080/",
          "height": 50
        },
        "outputId": "b5a6cbda-4084-47dc-ac29-cdb30c2b3249"
      },
      "cell_type": "code",
      "source": [
        "def get_file_content(file_name, show = False):\n",
        "    id = [file['id'] for file in file_list if file['title'] == file_name][0]\n",
        "  \n",
        "    if id == []:\n",
        "        print(\"There are not a file named %s\"% file_name)\n",
        "        return []\n",
        "  \n",
        "    print(\"Matched file named %s, and the id is %s\"% (file_name, id))\n",
        "    file = drive.CreateFile({'id': id})\n",
        "    txt = file.GetContentString()\n",
        "    if show:\n",
        "        print(\"This is the content of file %s :\\n\\n\"% file_name)\n",
        "        print(txt)\n",
        "    \n",
        "    print(\"Read file complete, length of file is %d\" % len(txt))\n",
        "    return txt\n",
        "  \n",
        "# file_name = \"for_test.txt\"\n",
        "file_name = \"bytecup.corpus.train.0.txt\"\n",
        "txt = get_file_content(file_name, show = False)"
      ],
      "execution_count": 111,
      "outputs": [
        {
          "output_type": "stream",
          "text": [
            "Matched file named bytecup.corpus.train.0.txt, and the id is 18X4DEun0b3owB26YdHaPF5nzHO7j-a0N\n",
            "Read file complete, length of file is 537018565\n"
          ],
          "name": "stdout"
        }
      ]
    },
    {
      "metadata": {
        "id": "OrO8e3VEr-gy",
        "colab_type": "text"
      },
      "cell_type": "markdown",
      "source": [
        "### 将内容写入根目录\n"
      ]
    },
    {
      "metadata": {
        "id": "DrqNX9tVlpOT",
        "colab_type": "code",
        "colab": {
          "base_uri": "https://localhost:8080/",
          "height": 34
        },
        "outputId": "6c265126-aec9-4128-a305-7b353e46c2a1"
      },
      "cell_type": "code",
      "source": [
        "import os\n",
        "with open(file_name, 'w') as f:\n",
        "    f.write(txt)\n",
        "!ls"
      ],
      "execution_count": 113,
      "outputs": [
        {
          "output_type": "stream",
          "text": [
            "adc.json  bytecup.corpus.train.0.txt  sample_data\n"
          ],
          "name": "stdout"
        }
      ]
    },
    {
      "metadata": {
        "id": "XRe7Yv8wDNcZ",
        "colab_type": "text"
      },
      "cell_type": "markdown",
      "source": [
        "### 读取根目录文件，测试写入成功"
      ]
    },
    {
      "metadata": {
        "id": "Xdibi1_9l8On",
        "colab_type": "code",
        "colab": {}
      },
      "cell_type": "code",
      "source": [
        "def show_file(str):\n",
        "    with open(str, 'r') as load_f:\n",
        "        print(\"This is the content of file %s :\\n\\n\"% str)\n",
        "        lines = load_f.readlines()\n",
        "        for i, line in enumerate(lines):\n",
        "            print(line)\n",
        "        print(\"\\n\\n\")\n",
        "    \n",
        "# show_file(file_name)"
      ],
      "execution_count": 0,
      "outputs": []
    },
    {
      "metadata": {
        "id": "Yw4dPrz5DTDs",
        "colab_type": "text"
      },
      "cell_type": "markdown",
      "source": [
        "### 删除根目录文件（如果文件无用）"
      ]
    },
    {
      "metadata": {
        "id": "_J0xxyoGmEn6",
        "colab_type": "code",
        "colab": {
          "base_uri": "https://localhost:8080/",
          "height": 34
        },
        "outputId": "a0770107-c4f6-48a8-9e01-f03dc18d89ca"
      },
      "cell_type": "code",
      "source": [
        "os.remove(file_name)\n",
        "!ls"
      ],
      "execution_count": 110,
      "outputs": [
        {
          "output_type": "stream",
          "text": [
            "adc.json  sample_data\n"
          ],
          "name": "stdout"
        }
      ]
    },
    {
      "metadata": {
        "id": "LI4cgbiVFg2Z",
        "colab_type": "code",
        "colab": {}
      },
      "cell_type": "code",
      "source": [
        ""
      ],
      "execution_count": 0,
      "outputs": []
    }
  ]
}